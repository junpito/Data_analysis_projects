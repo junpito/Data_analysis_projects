{
 "cells": [
  {
   "cell_type": "markdown",
   "id": "2cfc4569",
   "metadata": {
    "id": "H9wADwK78DCz",
    "papermill": {
     "duration": 0.01323,
     "end_time": "2024-09-21T09:49:21.582069",
     "exception": false,
     "start_time": "2024-09-21T09:49:21.568839",
     "status": "completed"
    },
    "tags": []
   },
   "source": [
    "# Proyek Analisis Data: Bike Sharing Dataset \n",
    "- **Nama:** Jupito Salim\n",
    "- **Email:** Junpitosalim@gmail.com\n",
    "- **ID Dicoding:** 490585"
   ]
  },
  {
   "cell_type": "markdown",
   "id": "972a1b9a",
   "metadata": {
    "id": "eE0raob58DC0",
    "papermill": {
     "duration": 0.011826,
     "end_time": "2024-09-21T09:49:21.606002",
     "exception": false,
     "start_time": "2024-09-21T09:49:21.594176",
     "status": "completed"
    },
    "tags": []
   },
   "source": [
    "## Menentukan Pertanyaan Bisnis"
   ]
  },
  {
   "cell_type": "markdown",
   "id": "8146b4d8",
   "metadata": {
    "id": "GmQeQ5YF8DC0",
    "papermill": {
     "duration": 0.011595,
     "end_time": "2024-09-21T09:49:21.629725",
     "exception": false,
     "start_time": "2024-09-21T09:49:21.618130",
     "status": "completed"
    },
    "tags": []
   },
   "source": [
    "- Bagaimana Pengaruh Kondisi Cuaca terhadap Jumlah Penyewaan Sepeda?\n",
    "- Bagaimana Perbedaan Jumlah Penyewaan Sepeda Berdasarkan Musim?"
   ]
  },
  {
   "cell_type": "markdown",
   "id": "21f44cbe",
   "metadata": {
    "id": "H-z4QGlO8DC1",
    "papermill": {
     "duration": 0.011676,
     "end_time": "2024-09-21T09:49:21.653611",
     "exception": false,
     "start_time": "2024-09-21T09:49:21.641935",
     "status": "completed"
    },
    "tags": []
   },
   "source": [
    "## Import Semua Packages/Library yang Digunakan"
   ]
  },
  {
   "cell_type": "code",
   "execution_count": 1,
   "id": "3859f0f0",
   "metadata": {
    "execution": {
     "iopub.execute_input": "2024-09-21T09:49:21.679449Z",
     "iopub.status.busy": "2024-09-21T09:49:21.678973Z",
     "iopub.status.idle": "2024-09-21T09:49:39.693525Z",
     "shell.execute_reply": "2024-09-21T09:49:39.692414Z"
    },
    "id": "FVYwaObI8DC1",
    "papermill": {
     "duration": 18.030816,
     "end_time": "2024-09-21T09:49:39.696366",
     "exception": false,
     "start_time": "2024-09-21T09:49:21.665550",
     "status": "completed"
    },
    "tags": []
   },
   "outputs": [],
   "source": [
    "import numpy as np\n",
    "import tensorflow as tf\n",
    "import pandas as pd \n",
    "import matplotlib.pyplot as plt\n",
    "import plotly.express as px\n",
    "import seaborn as sns\n",
    "from scipy import stats"
   ]
  },
  {
   "cell_type": "markdown",
   "id": "ada6eb28",
   "metadata": {
    "id": "h_Sh51Xy8DC1",
    "papermill": {
     "duration": 0.012102,
     "end_time": "2024-09-21T09:49:39.720655",
     "exception": false,
     "start_time": "2024-09-21T09:49:39.708553",
     "status": "completed"
    },
    "tags": []
   },
   "source": [
    "## Data Wrangling"
   ]
  },
  {
   "cell_type": "markdown",
   "id": "252d7c7f",
   "metadata": {
    "id": "sXU2GBYu8DC1",
    "papermill": {
     "duration": 0.011624,
     "end_time": "2024-09-21T09:49:39.744412",
     "exception": false,
     "start_time": "2024-09-21T09:49:39.732788",
     "status": "completed"
    },
    "tags": []
   },
   "source": [
    "### Gathering Data"
   ]
  },
  {
   "cell_type": "markdown",
   "id": "eb2de778",
   "metadata": {
    "papermill": {
     "duration": 0.011722,
     "end_time": "2024-09-21T09:49:39.768216",
     "exception": false,
     "start_time": "2024-09-21T09:49:39.756494",
     "status": "completed"
    },
    "tags": []
   },
   "source": [
    "Kami akan menggunakan dataset penyewaan sepeda per jam (hour.csv) yang berisi informasi terkait berbagai faktor cuaca, waktu, serta jumlah pengguna yang menyewa sepeda baik casual maupun terdaftar."
   ]
  },
  {
   "cell_type": "code",
   "execution_count": 2,
   "id": "0b6fa5de",
   "metadata": {
    "execution": {
     "iopub.execute_input": "2024-09-21T09:49:39.794655Z",
     "iopub.status.busy": "2024-09-21T09:49:39.793860Z",
     "iopub.status.idle": "2024-09-21T09:49:39.919658Z",
     "shell.execute_reply": "2024-09-21T09:49:39.918257Z"
    },
    "id": "zjCBk1BI8DC1",
    "papermill": {
     "duration": 0.142133,
     "end_time": "2024-09-21T09:49:39.922471",
     "exception": false,
     "start_time": "2024-09-21T09:49:39.780338",
     "status": "completed"
    },
    "tags": []
   },
   "outputs": [
    {
     "data": {
      "text/html": [
       "<div>\n",
       "<style scoped>\n",
       "    .dataframe tbody tr th:only-of-type {\n",
       "        vertical-align: middle;\n",
       "    }\n",
       "\n",
       "    .dataframe tbody tr th {\n",
       "        vertical-align: top;\n",
       "    }\n",
       "\n",
       "    .dataframe thead th {\n",
       "        text-align: right;\n",
       "    }\n",
       "</style>\n",
       "<table border=\"1\" class=\"dataframe\">\n",
       "  <thead>\n",
       "    <tr style=\"text-align: right;\">\n",
       "      <th></th>\n",
       "      <th>instant</th>\n",
       "      <th>dteday</th>\n",
       "      <th>season</th>\n",
       "      <th>yr</th>\n",
       "      <th>mnth</th>\n",
       "      <th>hr</th>\n",
       "      <th>holiday</th>\n",
       "      <th>weekday</th>\n",
       "      <th>workingday</th>\n",
       "      <th>weathersit</th>\n",
       "      <th>temp</th>\n",
       "      <th>atemp</th>\n",
       "      <th>hum</th>\n",
       "      <th>windspeed</th>\n",
       "      <th>casual</th>\n",
       "      <th>registered</th>\n",
       "      <th>cnt</th>\n",
       "    </tr>\n",
       "  </thead>\n",
       "  <tbody>\n",
       "    <tr>\n",
       "      <th>0</th>\n",
       "      <td>1</td>\n",
       "      <td>2011-01-01</td>\n",
       "      <td>1</td>\n",
       "      <td>0</td>\n",
       "      <td>1</td>\n",
       "      <td>0</td>\n",
       "      <td>0</td>\n",
       "      <td>6</td>\n",
       "      <td>0</td>\n",
       "      <td>1</td>\n",
       "      <td>0.24</td>\n",
       "      <td>0.2879</td>\n",
       "      <td>0.81</td>\n",
       "      <td>0.0</td>\n",
       "      <td>3</td>\n",
       "      <td>13</td>\n",
       "      <td>16</td>\n",
       "    </tr>\n",
       "    <tr>\n",
       "      <th>1</th>\n",
       "      <td>2</td>\n",
       "      <td>2011-01-01</td>\n",
       "      <td>1</td>\n",
       "      <td>0</td>\n",
       "      <td>1</td>\n",
       "      <td>1</td>\n",
       "      <td>0</td>\n",
       "      <td>6</td>\n",
       "      <td>0</td>\n",
       "      <td>1</td>\n",
       "      <td>0.22</td>\n",
       "      <td>0.2727</td>\n",
       "      <td>0.80</td>\n",
       "      <td>0.0</td>\n",
       "      <td>8</td>\n",
       "      <td>32</td>\n",
       "      <td>40</td>\n",
       "    </tr>\n",
       "    <tr>\n",
       "      <th>2</th>\n",
       "      <td>3</td>\n",
       "      <td>2011-01-01</td>\n",
       "      <td>1</td>\n",
       "      <td>0</td>\n",
       "      <td>1</td>\n",
       "      <td>2</td>\n",
       "      <td>0</td>\n",
       "      <td>6</td>\n",
       "      <td>0</td>\n",
       "      <td>1</td>\n",
       "      <td>0.22</td>\n",
       "      <td>0.2727</td>\n",
       "      <td>0.80</td>\n",
       "      <td>0.0</td>\n",
       "      <td>5</td>\n",
       "      <td>27</td>\n",
       "      <td>32</td>\n",
       "    </tr>\n",
       "    <tr>\n",
       "      <th>3</th>\n",
       "      <td>4</td>\n",
       "      <td>2011-01-01</td>\n",
       "      <td>1</td>\n",
       "      <td>0</td>\n",
       "      <td>1</td>\n",
       "      <td>3</td>\n",
       "      <td>0</td>\n",
       "      <td>6</td>\n",
       "      <td>0</td>\n",
       "      <td>1</td>\n",
       "      <td>0.24</td>\n",
       "      <td>0.2879</td>\n",
       "      <td>0.75</td>\n",
       "      <td>0.0</td>\n",
       "      <td>3</td>\n",
       "      <td>10</td>\n",
       "      <td>13</td>\n",
       "    </tr>\n",
       "    <tr>\n",
       "      <th>4</th>\n",
       "      <td>5</td>\n",
       "      <td>2011-01-01</td>\n",
       "      <td>1</td>\n",
       "      <td>0</td>\n",
       "      <td>1</td>\n",
       "      <td>4</td>\n",
       "      <td>0</td>\n",
       "      <td>6</td>\n",
       "      <td>0</td>\n",
       "      <td>1</td>\n",
       "      <td>0.24</td>\n",
       "      <td>0.2879</td>\n",
       "      <td>0.75</td>\n",
       "      <td>0.0</td>\n",
       "      <td>0</td>\n",
       "      <td>1</td>\n",
       "      <td>1</td>\n",
       "    </tr>\n",
       "  </tbody>\n",
       "</table>\n",
       "</div>"
      ],
      "text/plain": [
       "   instant      dteday  season  yr  mnth  hr  holiday  weekday  workingday  \\\n",
       "0        1  2011-01-01       1   0     1   0        0        6           0   \n",
       "1        2  2011-01-01       1   0     1   1        0        6           0   \n",
       "2        3  2011-01-01       1   0     1   2        0        6           0   \n",
       "3        4  2011-01-01       1   0     1   3        0        6           0   \n",
       "4        5  2011-01-01       1   0     1   4        0        6           0   \n",
       "\n",
       "   weathersit  temp   atemp   hum  windspeed  casual  registered  cnt  \n",
       "0           1  0.24  0.2879  0.81        0.0       3          13   16  \n",
       "1           1  0.22  0.2727  0.80        0.0       8          32   40  \n",
       "2           1  0.22  0.2727  0.80        0.0       5          27   32  \n",
       "3           1  0.24  0.2879  0.75        0.0       3          10   13  \n",
       "4           1  0.24  0.2879  0.75        0.0       0           1    1  "
      ]
     },
     "execution_count": 2,
     "metadata": {},
     "output_type": "execute_result"
    }
   ],
   "source": [
    "df = pd.read_csv(\"/kaggle/input/bike-sharing-dataset/hour.csv\")\n",
    "df.head()"
   ]
  },
  {
   "cell_type": "markdown",
   "id": "44245c86",
   "metadata": {
    "papermill": {
     "duration": 0.012054,
     "end_time": "2024-09-21T09:49:39.947450",
     "exception": false,
     "start_time": "2024-09-21T09:49:39.935396",
     "status": "completed"
    },
    "tags": []
   },
   "source": [
    "**Insight:**\n",
    "Dari hasil output di atas, kita dapat melihat beberapa kolom penting dalam dataset, seperti:\n",
    "- `instant`: Nomor urut baris.\n",
    "- `dteday`: Tanggal data diambil.\n",
    "- `season`: Musim dalam bentuk angka (1: musim semi, 2: musim panas, 3: musim gugur, 4: musim dingin).\n",
    "- `yr`: Tahun, 0 untuk 2011 dan 1 untuk 2012.\n",
    "- `mnth`: Bulan dari 1 hingga 12.\n",
    "- `hr`: Jam dalam format 24 jam.\n",
    "- `holiday`: 1 jika hari tersebut libur, 0 jika bukan libur.\n",
    "- `weekday`: Hari dalam minggu, di mana 0 = Minggu, 1 = Senin, dan seterusnya.\n",
    "- `workingday`: 1 jika hari kerja (bukan libur), 0 jika tidak.\n",
    "- `weathersit`: Kondisi cuaca dalam kode numerik (1 = cerah, 2 = berkabut, 3 = hujan ringan, 4 = hujan lebat).\n",
    "- `temp`: Suhu aktual dalam skala 0 hingga 1.\n",
    "- `atemp`: Suhu \"feels like\" atau suhu yang dirasakan.\n",
    "- `hum`: Kelembapan dalam skala 0 hingga 1.\n",
    "- `windspeed`: Kecepatan angin dalam skala 0 hingga 1.\n",
    "- `casual`: Jumlah pengguna casual (tanpa registrasi).\n",
    "- `registered`: Jumlah pengguna terdaftar.\n",
    "- `cnt`: Jumlah total penyewaan sepeda."
   ]
  },
  {
   "cell_type": "markdown",
   "id": "a9316eeb",
   "metadata": {
    "id": "FHSiqaZp8DC1",
    "papermill": {
     "duration": 0.01199,
     "end_time": "2024-09-21T09:49:39.972028",
     "exception": false,
     "start_time": "2024-09-21T09:49:39.960038",
     "status": "completed"
    },
    "tags": []
   },
   "source": [
    "### Assessing Data"
   ]
  },
  {
   "cell_type": "code",
   "execution_count": 3,
   "id": "c12aeab0",
   "metadata": {
    "execution": {
     "iopub.execute_input": "2024-09-21T09:49:39.999503Z",
     "iopub.status.busy": "2024-09-21T09:49:39.998367Z",
     "iopub.status.idle": "2024-09-21T09:49:40.026609Z",
     "shell.execute_reply": "2024-09-21T09:49:40.025337Z"
    },
    "papermill": {
     "duration": 0.044959,
     "end_time": "2024-09-21T09:49:40.029525",
     "exception": false,
     "start_time": "2024-09-21T09:49:39.984566",
     "status": "completed"
    },
    "tags": []
   },
   "outputs": [
    {
     "name": "stdout",
     "output_type": "stream",
     "text": [
      "<class 'pandas.core.frame.DataFrame'>\n",
      "RangeIndex: 17379 entries, 0 to 17378\n",
      "Data columns (total 17 columns):\n",
      " #   Column      Non-Null Count  Dtype  \n",
      "---  ------      --------------  -----  \n",
      " 0   instant     17379 non-null  int64  \n",
      " 1   dteday      17379 non-null  object \n",
      " 2   season      17379 non-null  int64  \n",
      " 3   yr          17379 non-null  int64  \n",
      " 4   mnth        17379 non-null  int64  \n",
      " 5   hr          17379 non-null  int64  \n",
      " 6   holiday     17379 non-null  int64  \n",
      " 7   weekday     17379 non-null  int64  \n",
      " 8   workingday  17379 non-null  int64  \n",
      " 9   weathersit  17379 non-null  int64  \n",
      " 10  temp        17379 non-null  float64\n",
      " 11  atemp       17379 non-null  float64\n",
      " 12  hum         17379 non-null  float64\n",
      " 13  windspeed   17379 non-null  float64\n",
      " 14  casual      17379 non-null  int64  \n",
      " 15  registered  17379 non-null  int64  \n",
      " 16  cnt         17379 non-null  int64  \n",
      "dtypes: float64(4), int64(12), object(1)\n",
      "memory usage: 2.3+ MB\n"
     ]
    }
   ],
   "source": [
    "df.info()"
   ]
  },
  {
   "cell_type": "markdown",
   "id": "6f10b399",
   "metadata": {
    "papermill": {
     "duration": 0.012601,
     "end_time": "2024-09-21T09:49:40.054791",
     "exception": false,
     "start_time": "2024-09-21T09:49:40.042190",
     "status": "completed"
    },
    "tags": []
   },
   "source": [
    "** Insight: **\n",
    "- Dataset berisi **17,379 baris** dan **17 kolom**.\n",
    "- Dataset tidak memiliki nilai yang hilang (null) karena jumlah data non-null untuk setiap kolom sama dengan jumlah baris total.\n",
    "- Ada berbagai tipe data dalam dataset:\n",
    "  - **Kolom numerik**: Kolom seperti `season`, `yr`, `mnth`, `hr`, dan lainnya adalah tipe data integer.\n",
    "  - **Kolom float**: Kolom seperti `temp`, `atemp`, `hum`, dan `windspeed` menggunakan tipe float64.\n",
    "  - **Kolom objek**: Kolom `dteday` adalah tipe object (string). note: kolom kemungkinan Inaccurate value\n",
    "- Ukuran memori yang digunakan oleh dataset adalah **2.3+ MB**."
   ]
  },
  {
   "cell_type": "code",
   "execution_count": 4,
   "id": "48e88534",
   "metadata": {
    "execution": {
     "iopub.execute_input": "2024-09-21T09:49:40.082371Z",
     "iopub.status.busy": "2024-09-21T09:49:40.081305Z",
     "iopub.status.idle": "2024-09-21T09:49:40.097660Z",
     "shell.execute_reply": "2024-09-21T09:49:40.096546Z"
    },
    "id": "ax-3tEjc9Cj1",
    "papermill": {
     "duration": 0.03279,
     "end_time": "2024-09-21T09:49:40.100189",
     "exception": false,
     "start_time": "2024-09-21T09:49:40.067399",
     "status": "completed"
    },
    "tags": []
   },
   "outputs": [
    {
     "data": {
      "text/plain": [
       "0"
      ]
     },
     "execution_count": 4,
     "metadata": {},
     "output_type": "execute_result"
    }
   ],
   "source": [
    "# Mengecek apakah ada duplikasi di dataset\n",
    "df.duplicated().sum()"
   ]
  },
  {
   "cell_type": "markdown",
   "id": "78e1d4f4",
   "metadata": {
    "id": "7dtxhAPrkhPL",
    "papermill": {
     "duration": 0.01255,
     "end_time": "2024-09-21T09:49:40.125736",
     "exception": false,
     "start_time": "2024-09-21T09:49:40.113186",
     "status": "completed"
    },
    "tags": []
   },
   "source": [
    "**Insight:**\n",
    "- tidak ada duplikasi pada dataset"
   ]
  },
  {
   "cell_type": "code",
   "execution_count": 5,
   "id": "2cb9e25c",
   "metadata": {
    "execution": {
     "iopub.execute_input": "2024-09-21T09:49:40.153476Z",
     "iopub.status.busy": "2024-09-21T09:49:40.152556Z",
     "iopub.status.idle": "2024-09-21T09:49:40.353938Z",
     "shell.execute_reply": "2024-09-21T09:49:40.352655Z"
    },
    "papermill": {
     "duration": 0.21847,
     "end_time": "2024-09-21T09:49:40.356945",
     "exception": false,
     "start_time": "2024-09-21T09:49:40.138475",
     "status": "completed"
    },
    "tags": []
   },
   "outputs": [
    {
     "data": {
      "image/png": "[encoded data removed]",
      "text/plain": [
       "<Figure size 800x600 with 1 Axes>"
      ]
     },
     "metadata": {},
     "output_type": "display_data"
    }
   ],
   "source": [
    "# Membuat boxplot untuk kolom 'cnt'\n",
    "plt.figure(figsize=(8, 6))\n",
    "sns.boxplot(x=df['cnt'])\n",
    "plt.title('Boxplot untuk Jumlah Penyewaan Sepeda')\n",
    "plt.show()"
   ]
  },
  {
   "cell_type": "markdown",
   "id": "933a81e9",
   "metadata": {
    "papermill": {
     "duration": 0.012644,
     "end_time": "2024-09-21T09:49:40.383064",
     "exception": false,
     "start_time": "2024-09-21T09:49:40.370420",
     "status": "completed"
    },
    "tags": []
   },
   "source": [
    "**Insight:**\n",
    "- terdapar beberapa titik point yang merupakan outlier\n"
   ]
  },
  {
   "cell_type": "code",
   "execution_count": 6,
   "id": "e4d41238",
   "metadata": {
    "execution": {
     "iopub.execute_input": "2024-09-21T09:49:40.411532Z",
     "iopub.status.busy": "2024-09-21T09:49:40.411026Z",
     "iopub.status.idle": "2024-09-21T09:49:40.443368Z",
     "shell.execute_reply": "2024-09-21T09:49:40.442169Z"
    },
    "papermill": {
     "duration": 0.049428,
     "end_time": "2024-09-21T09:49:40.445997",
     "exception": false,
     "start_time": "2024-09-21T09:49:40.396569",
     "status": "completed"
    },
    "tags": []
   },
   "outputs": [
    {
     "data": {
      "text/html": [
       "<div>\n",
       "<style scoped>\n",
       "    .dataframe tbody tr th:only-of-type {\n",
       "        vertical-align: middle;\n",
       "    }\n",
       "\n",
       "    .dataframe tbody tr th {\n",
       "        vertical-align: top;\n",
       "    }\n",
       "\n",
       "    .dataframe thead th {\n",
       "        text-align: right;\n",
       "    }\n",
       "</style>\n",
       "<table border=\"1\" class=\"dataframe\">\n",
       "  <thead>\n",
       "    <tr style=\"text-align: right;\">\n",
       "      <th></th>\n",
       "      <th>instant</th>\n",
       "      <th>dteday</th>\n",
       "      <th>season</th>\n",
       "      <th>yr</th>\n",
       "      <th>mnth</th>\n",
       "      <th>hr</th>\n",
       "      <th>holiday</th>\n",
       "      <th>weekday</th>\n",
       "      <th>workingday</th>\n",
       "      <th>weathersit</th>\n",
       "      <th>temp</th>\n",
       "      <th>atemp</th>\n",
       "      <th>hum</th>\n",
       "      <th>windspeed</th>\n",
       "      <th>casual</th>\n",
       "      <th>registered</th>\n",
       "      <th>cnt</th>\n",
       "    </tr>\n",
       "  </thead>\n",
       "  <tbody>\n",
       "    <tr>\n",
       "      <th>10383</th>\n",
       "      <td>10384</td>\n",
       "      <td>2012-03-13</td>\n",
       "      <td>1</td>\n",
       "      <td>1</td>\n",
       "      <td>3</td>\n",
       "      <td>18</td>\n",
       "      <td>0</td>\n",
       "      <td>2</td>\n",
       "      <td>1</td>\n",
       "      <td>1</td>\n",
       "      <td>0.70</td>\n",
       "      <td>0.6364</td>\n",
       "      <td>0.34</td>\n",
       "      <td>0.2985</td>\n",
       "      <td>96</td>\n",
       "      <td>638</td>\n",
       "      <td>734</td>\n",
       "    </tr>\n",
       "    <tr>\n",
       "      <th>10406</th>\n",
       "      <td>10407</td>\n",
       "      <td>2012-03-14</td>\n",
       "      <td>1</td>\n",
       "      <td>1</td>\n",
       "      <td>3</td>\n",
       "      <td>17</td>\n",
       "      <td>0</td>\n",
       "      <td>3</td>\n",
       "      <td>1</td>\n",
       "      <td>1</td>\n",
       "      <td>0.70</td>\n",
       "      <td>0.6364</td>\n",
       "      <td>0.28</td>\n",
       "      <td>0.0896</td>\n",
       "      <td>140</td>\n",
       "      <td>642</td>\n",
       "      <td>782</td>\n",
       "    </tr>\n",
       "    <tr>\n",
       "      <th>10407</th>\n",
       "      <td>10408</td>\n",
       "      <td>2012-03-14</td>\n",
       "      <td>1</td>\n",
       "      <td>1</td>\n",
       "      <td>3</td>\n",
       "      <td>18</td>\n",
       "      <td>0</td>\n",
       "      <td>3</td>\n",
       "      <td>1</td>\n",
       "      <td>1</td>\n",
       "      <td>0.70</td>\n",
       "      <td>0.6364</td>\n",
       "      <td>0.32</td>\n",
       "      <td>0.0000</td>\n",
       "      <td>102</td>\n",
       "      <td>647</td>\n",
       "      <td>749</td>\n",
       "    </tr>\n",
       "    <tr>\n",
       "      <th>10431</th>\n",
       "      <td>10432</td>\n",
       "      <td>2012-03-15</td>\n",
       "      <td>1</td>\n",
       "      <td>1</td>\n",
       "      <td>3</td>\n",
       "      <td>18</td>\n",
       "      <td>0</td>\n",
       "      <td>4</td>\n",
       "      <td>1</td>\n",
       "      <td>1</td>\n",
       "      <td>0.66</td>\n",
       "      <td>0.6212</td>\n",
       "      <td>0.44</td>\n",
       "      <td>0.2836</td>\n",
       "      <td>98</td>\n",
       "      <td>648</td>\n",
       "      <td>746</td>\n",
       "    </tr>\n",
       "    <tr>\n",
       "      <th>10527</th>\n",
       "      <td>10528</td>\n",
       "      <td>2012-03-19</td>\n",
       "      <td>1</td>\n",
       "      <td>1</td>\n",
       "      <td>3</td>\n",
       "      <td>18</td>\n",
       "      <td>0</td>\n",
       "      <td>1</td>\n",
       "      <td>1</td>\n",
       "      <td>1</td>\n",
       "      <td>0.64</td>\n",
       "      <td>0.6212</td>\n",
       "      <td>0.57</td>\n",
       "      <td>0.2537</td>\n",
       "      <td>120</td>\n",
       "      <td>681</td>\n",
       "      <td>801</td>\n",
       "    </tr>\n",
       "    <tr>\n",
       "      <th>...</th>\n",
       "      <td>...</td>\n",
       "      <td>...</td>\n",
       "      <td>...</td>\n",
       "      <td>...</td>\n",
       "      <td>...</td>\n",
       "      <td>...</td>\n",
       "      <td>...</td>\n",
       "      <td>...</td>\n",
       "      <td>...</td>\n",
       "      <td>...</td>\n",
       "      <td>...</td>\n",
       "      <td>...</td>\n",
       "      <td>...</td>\n",
       "      <td>...</td>\n",
       "      <td>...</td>\n",
       "      <td>...</td>\n",
       "      <td>...</td>\n",
       "    </tr>\n",
       "    <tr>\n",
       "      <th>15828</th>\n",
       "      <td>15829</td>\n",
       "      <td>2012-10-26</td>\n",
       "      <td>4</td>\n",
       "      <td>1</td>\n",
       "      <td>10</td>\n",
       "      <td>17</td>\n",
       "      <td>0</td>\n",
       "      <td>5</td>\n",
       "      <td>1</td>\n",
       "      <td>2</td>\n",
       "      <td>0.56</td>\n",
       "      <td>0.5303</td>\n",
       "      <td>0.76</td>\n",
       "      <td>0.1940</td>\n",
       "      <td>125</td>\n",
       "      <td>692</td>\n",
       "      <td>817</td>\n",
       "    </tr>\n",
       "    <tr>\n",
       "      <th>15848</th>\n",
       "      <td>15849</td>\n",
       "      <td>2012-10-27</td>\n",
       "      <td>4</td>\n",
       "      <td>1</td>\n",
       "      <td>10</td>\n",
       "      <td>13</td>\n",
       "      <td>0</td>\n",
       "      <td>6</td>\n",
       "      <td>0</td>\n",
       "      <td>1</td>\n",
       "      <td>0.60</td>\n",
       "      <td>0.6212</td>\n",
       "      <td>0.43</td>\n",
       "      <td>0.2537</td>\n",
       "      <td>310</td>\n",
       "      <td>450</td>\n",
       "      <td>760</td>\n",
       "    </tr>\n",
       "    <tr>\n",
       "      <th>15849</th>\n",
       "      <td>15850</td>\n",
       "      <td>2012-10-27</td>\n",
       "      <td>4</td>\n",
       "      <td>1</td>\n",
       "      <td>10</td>\n",
       "      <td>14</td>\n",
       "      <td>0</td>\n",
       "      <td>6</td>\n",
       "      <td>0</td>\n",
       "      <td>1</td>\n",
       "      <td>0.60</td>\n",
       "      <td>0.6212</td>\n",
       "      <td>0.46</td>\n",
       "      <td>0.2537</td>\n",
       "      <td>325</td>\n",
       "      <td>425</td>\n",
       "      <td>750</td>\n",
       "    </tr>\n",
       "    <tr>\n",
       "      <th>16726</th>\n",
       "      <td>16727</td>\n",
       "      <td>2012-12-04</td>\n",
       "      <td>4</td>\n",
       "      <td>1</td>\n",
       "      <td>12</td>\n",
       "      <td>17</td>\n",
       "      <td>0</td>\n",
       "      <td>2</td>\n",
       "      <td>1</td>\n",
       "      <td>1</td>\n",
       "      <td>0.52</td>\n",
       "      <td>0.5000</td>\n",
       "      <td>0.59</td>\n",
       "      <td>0.2239</td>\n",
       "      <td>43</td>\n",
       "      <td>700</td>\n",
       "      <td>743</td>\n",
       "    </tr>\n",
       "    <tr>\n",
       "      <th>16741</th>\n",
       "      <td>16742</td>\n",
       "      <td>2012-12-05</td>\n",
       "      <td>4</td>\n",
       "      <td>1</td>\n",
       "      <td>12</td>\n",
       "      <td>8</td>\n",
       "      <td>0</td>\n",
       "      <td>3</td>\n",
       "      <td>1</td>\n",
       "      <td>2</td>\n",
       "      <td>0.44</td>\n",
       "      <td>0.4394</td>\n",
       "      <td>0.58</td>\n",
       "      <td>0.2836</td>\n",
       "      <td>22</td>\n",
       "      <td>737</td>\n",
       "      <td>759</td>\n",
       "    </tr>\n",
       "  </tbody>\n",
       "</table>\n",
       "<p>244 rows × 17 columns</p>\n",
       "</div>"
      ],
      "text/plain": [
       "       instant      dteday  season  yr  mnth  hr  holiday  weekday  \\\n",
       "10383    10384  2012-03-13       1   1     3  18        0        2   \n",
       "10406    10407  2012-03-14       1   1     3  17        0        3   \n",
       "10407    10408  2012-03-14       1   1     3  18        0        3   \n",
       "10431    10432  2012-03-15       1   1     3  18        0        4   \n",
       "10527    10528  2012-03-19       1   1     3  18        0        1   \n",
       "...        ...         ...     ...  ..   ...  ..      ...      ...   \n",
       "15828    15829  2012-10-26       4   1    10  17        0        5   \n",
       "15848    15849  2012-10-27       4   1    10  13        0        6   \n",
       "15849    15850  2012-10-27       4   1    10  14        0        6   \n",
       "16726    16727  2012-12-04       4   1    12  17        0        2   \n",
       "16741    16742  2012-12-05       4   1    12   8        0        3   \n",
       "\n",
       "       workingday  weathersit  temp   atemp   hum  windspeed  casual  \\\n",
       "10383           1           1  0.70  0.6364  0.34     0.2985      96   \n",
       "10406           1           1  0.70  0.6364  0.28     0.0896     140   \n",
       "10407           1           1  0.70  0.6364  0.32     0.0000     102   \n",
       "10431           1           1  0.66  0.6212  0.44     0.2836      98   \n",
       "10527           1           1  0.64  0.6212  0.57     0.2537     120   \n",
       "...           ...         ...   ...     ...   ...        ...     ...   \n",
       "15828           1           2  0.56  0.5303  0.76     0.1940     125   \n",
       "15848           0           1  0.60  0.6212  0.43     0.2537     310   \n",
       "15849           0           1  0.60  0.6212  0.46     0.2537     325   \n",
       "16726           1           1  0.52  0.5000  0.59     0.2239      43   \n",
       "16741           1           2  0.44  0.4394  0.58     0.2836      22   \n",
       "\n",
       "       registered  cnt  \n",
       "10383         638  734  \n",
       "10406         642  782  \n",
       "10407         647  749  \n",
       "10431         648  746  \n",
       "10527         681  801  \n",
       "...           ...  ...  \n",
       "15828         692  817  \n",
       "15848         450  760  \n",
       "15849         425  750  \n",
       "16726         700  743  \n",
       "16741         737  759  \n",
       "\n",
       "[244 rows x 17 columns]"
      ]
     },
     "execution_count": 6,
     "metadata": {},
     "output_type": "execute_result"
    }
   ],
   "source": [
    "# Menghitung Z-Score untuk kolom 'cnt'\n",
    "z_scores = np.abs(stats.zscore(df['cnt']))\n",
    "\n",
    "# Menentukan threshold (contoh: Z-Score > 3 dianggap outlier)\n",
    "threshold = 3\n",
    "outliers = np.where(z_scores > threshold)\n",
    "\n",
    "# Menampilkan baris yang merupakan outlier\n",
    "df.iloc[outliers]"
   ]
  },
  {
   "cell_type": "markdown",
   "id": "8fd8ef71",
   "metadata": {
    "papermill": {
     "duration": 0.013276,
     "end_time": "2024-09-21T09:49:40.473390",
     "exception": false,
     "start_time": "2024-09-21T09:49:40.460114",
     "status": "completed"
    },
    "tags": []
   },
   "source": [
    "**Insight:**\n",
    "- terdapat **244** baris outlier dengan z-skor lebih dari 3"
   ]
  },
  {
   "cell_type": "markdown",
   "id": "0ee9f59b",
   "metadata": {
    "id": "EhN5R4hr8DC1",
    "papermill": {
     "duration": 0.013997,
     "end_time": "2024-09-21T09:49:40.501285",
     "exception": false,
     "start_time": "2024-09-21T09:49:40.487288",
     "status": "completed"
    },
    "tags": []
   },
   "source": [
    "### Cleaning Data"
   ]
  },
  {
   "cell_type": "code",
   "execution_count": 7,
   "id": "25d7d37b",
   "metadata": {
    "execution": {
     "iopub.execute_input": "2024-09-21T09:49:40.531324Z",
     "iopub.status.busy": "2024-09-21T09:49:40.530840Z",
     "iopub.status.idle": "2024-09-21T09:49:40.556925Z",
     "shell.execute_reply": "2024-09-21T09:49:40.555608Z"
    },
    "id": "jVnYpprE9Evz",
    "papermill": {
     "duration": 0.043899,
     "end_time": "2024-09-21T09:49:40.559508",
     "exception": false,
     "start_time": "2024-09-21T09:49:40.515609",
     "status": "completed"
    },
    "tags": []
   },
   "outputs": [
    {
     "data": {
      "text/html": [
       "<div>\n",
       "<style scoped>\n",
       "    .dataframe tbody tr th:only-of-type {\n",
       "        vertical-align: middle;\n",
       "    }\n",
       "\n",
       "    .dataframe tbody tr th {\n",
       "        vertical-align: top;\n",
       "    }\n",
       "\n",
       "    .dataframe thead th {\n",
       "        text-align: right;\n",
       "    }\n",
       "</style>\n",
       "<table border=\"1\" class=\"dataframe\">\n",
       "  <thead>\n",
       "    <tr style=\"text-align: right;\">\n",
       "      <th></th>\n",
       "      <th>instant</th>\n",
       "      <th>dteday</th>\n",
       "      <th>season</th>\n",
       "      <th>yr</th>\n",
       "      <th>mnth</th>\n",
       "      <th>hr</th>\n",
       "      <th>holiday</th>\n",
       "      <th>weekday</th>\n",
       "      <th>workingday</th>\n",
       "      <th>weathersit</th>\n",
       "      <th>temp</th>\n",
       "      <th>atemp</th>\n",
       "      <th>hum</th>\n",
       "      <th>windspeed</th>\n",
       "      <th>casual</th>\n",
       "      <th>registered</th>\n",
       "      <th>cnt</th>\n",
       "    </tr>\n",
       "  </thead>\n",
       "  <tbody>\n",
       "    <tr>\n",
       "      <th>0</th>\n",
       "      <td>1</td>\n",
       "      <td>2011-01-01</td>\n",
       "      <td>1</td>\n",
       "      <td>0</td>\n",
       "      <td>1</td>\n",
       "      <td>0</td>\n",
       "      <td>0</td>\n",
       "      <td>6</td>\n",
       "      <td>0</td>\n",
       "      <td>1</td>\n",
       "      <td>0.24</td>\n",
       "      <td>0.2879</td>\n",
       "      <td>0.81</td>\n",
       "      <td>0.0</td>\n",
       "      <td>3</td>\n",
       "      <td>13</td>\n",
       "      <td>16</td>\n",
       "    </tr>\n",
       "    <tr>\n",
       "      <th>1</th>\n",
       "      <td>2</td>\n",
       "      <td>2011-01-01</td>\n",
       "      <td>1</td>\n",
       "      <td>0</td>\n",
       "      <td>1</td>\n",
       "      <td>1</td>\n",
       "      <td>0</td>\n",
       "      <td>6</td>\n",
       "      <td>0</td>\n",
       "      <td>1</td>\n",
       "      <td>0.22</td>\n",
       "      <td>0.2727</td>\n",
       "      <td>0.80</td>\n",
       "      <td>0.0</td>\n",
       "      <td>8</td>\n",
       "      <td>32</td>\n",
       "      <td>40</td>\n",
       "    </tr>\n",
       "    <tr>\n",
       "      <th>2</th>\n",
       "      <td>3</td>\n",
       "      <td>2011-01-01</td>\n",
       "      <td>1</td>\n",
       "      <td>0</td>\n",
       "      <td>1</td>\n",
       "      <td>2</td>\n",
       "      <td>0</td>\n",
       "      <td>6</td>\n",
       "      <td>0</td>\n",
       "      <td>1</td>\n",
       "      <td>0.22</td>\n",
       "      <td>0.2727</td>\n",
       "      <td>0.80</td>\n",
       "      <td>0.0</td>\n",
       "      <td>5</td>\n",
       "      <td>27</td>\n",
       "      <td>32</td>\n",
       "    </tr>\n",
       "    <tr>\n",
       "      <th>3</th>\n",
       "      <td>4</td>\n",
       "      <td>2011-01-01</td>\n",
       "      <td>1</td>\n",
       "      <td>0</td>\n",
       "      <td>1</td>\n",
       "      <td>3</td>\n",
       "      <td>0</td>\n",
       "      <td>6</td>\n",
       "      <td>0</td>\n",
       "      <td>1</td>\n",
       "      <td>0.24</td>\n",
       "      <td>0.2879</td>\n",
       "      <td>0.75</td>\n",
       "      <td>0.0</td>\n",
       "      <td>3</td>\n",
       "      <td>10</td>\n",
       "      <td>13</td>\n",
       "    </tr>\n",
       "    <tr>\n",
       "      <th>4</th>\n",
       "      <td>5</td>\n",
       "      <td>2011-01-01</td>\n",
       "      <td>1</td>\n",
       "      <td>0</td>\n",
       "      <td>1</td>\n",
       "      <td>4</td>\n",
       "      <td>0</td>\n",
       "      <td>6</td>\n",
       "      <td>0</td>\n",
       "      <td>1</td>\n",
       "      <td>0.24</td>\n",
       "      <td>0.2879</td>\n",
       "      <td>0.75</td>\n",
       "      <td>0.0</td>\n",
       "      <td>0</td>\n",
       "      <td>1</td>\n",
       "      <td>1</td>\n",
       "    </tr>\n",
       "  </tbody>\n",
       "</table>\n",
       "</div>"
      ],
      "text/plain": [
       "   instant      dteday  season  yr  mnth  hr  holiday  weekday  workingday  \\\n",
       "0        1  2011-01-01       1   0     1   0        0        6           0   \n",
       "1        2  2011-01-01       1   0     1   1        0        6           0   \n",
       "2        3  2011-01-01       1   0     1   2        0        6           0   \n",
       "3        4  2011-01-01       1   0     1   3        0        6           0   \n",
       "4        5  2011-01-01       1   0     1   4        0        6           0   \n",
       "\n",
       "   weathersit  temp   atemp   hum  windspeed  casual  registered  cnt  \n",
       "0           1  0.24  0.2879  0.81        0.0       3          13   16  \n",
       "1           1  0.22  0.2727  0.80        0.0       8          32   40  \n",
       "2           1  0.22  0.2727  0.80        0.0       5          27   32  \n",
       "3           1  0.24  0.2879  0.75        0.0       3          10   13  \n",
       "4           1  0.24  0.2879  0.75        0.0       0           1    1  "
      ]
     },
     "execution_count": 7,
     "metadata": {},
     "output_type": "execute_result"
    }
   ],
   "source": [
    "# Mendapatkan index baris yang bukan outlier\n",
    "non_outliers = np.where(z_scores <= threshold)\n",
    "\n",
    "\n",
    "# Membuat DataFrame baru tanpa outlier\n",
    "df_cleaned = df.iloc[non_outliers]\n",
    "df_cleaned.head()"
   ]
  },
  {
   "cell_type": "code",
   "execution_count": 8,
   "id": "8b7398f5",
   "metadata": {
    "execution": {
     "iopub.execute_input": "2024-09-21T09:49:40.589912Z",
     "iopub.status.busy": "2024-09-21T09:49:40.589401Z",
     "iopub.status.idle": "2024-09-21T09:49:40.668766Z",
     "shell.execute_reply": "2024-09-21T09:49:40.667582Z"
    },
    "papermill": {
     "duration": 0.097927,
     "end_time": "2024-09-21T09:49:40.671829",
     "exception": false,
     "start_time": "2024-09-21T09:49:40.573902",
     "status": "completed"
    },
    "tags": []
   },
   "outputs": [],
   "source": [
    "# Mengubah kolom 'dteday' dari string ke datetime\n",
    "df_cleaned.loc[:, 'dteday'] = pd.to_datetime(df_cleaned['dteday'])"
   ]
  },
  {
   "cell_type": "markdown",
   "id": "66fdf9e0",
   "metadata": {
    "id": "gp-Y6wU38DC1",
    "papermill": {
     "duration": 0.013832,
     "end_time": "2024-09-21T09:49:40.699817",
     "exception": false,
     "start_time": "2024-09-21T09:49:40.685985",
     "status": "completed"
    },
    "tags": []
   },
   "source": [
    "## Exploratory Data Analysis (EDA)"
   ]
  },
  {
   "cell_type": "code",
   "execution_count": 9,
   "id": "d279eeb1",
   "metadata": {
    "execution": {
     "iopub.execute_input": "2024-09-21T09:49:40.729701Z",
     "iopub.status.busy": "2024-09-21T09:49:40.729251Z",
     "iopub.status.idle": "2024-09-21T09:49:40.792572Z",
     "shell.execute_reply": "2024-09-21T09:49:40.791265Z"
    },
    "id": "e9CQCZjk8DC2",
    "papermill": {
     "duration": 0.081921,
     "end_time": "2024-09-21T09:49:40.795763",
     "exception": false,
     "start_time": "2024-09-21T09:49:40.713842",
     "status": "completed"
    },
    "tags": []
   },
   "outputs": [
    {
     "data": {
      "text/html": [
       "<div>\n",
       "<style scoped>\n",
       "    .dataframe tbody tr th:only-of-type {\n",
       "        vertical-align: middle;\n",
       "    }\n",
       "\n",
       "    .dataframe tbody tr th {\n",
       "        vertical-align: top;\n",
       "    }\n",
       "\n",
       "    .dataframe thead th {\n",
       "        text-align: right;\n",
       "    }\n",
       "</style>\n",
       "<table border=\"1\" class=\"dataframe\">\n",
       "  <thead>\n",
       "    <tr style=\"text-align: right;\">\n",
       "      <th></th>\n",
       "      <th>instant</th>\n",
       "      <th>season</th>\n",
       "      <th>yr</th>\n",
       "      <th>mnth</th>\n",
       "      <th>hr</th>\n",
       "      <th>holiday</th>\n",
       "      <th>weekday</th>\n",
       "      <th>workingday</th>\n",
       "      <th>weathersit</th>\n",
       "      <th>temp</th>\n",
       "      <th>atemp</th>\n",
       "      <th>hum</th>\n",
       "      <th>windspeed</th>\n",
       "      <th>casual</th>\n",
       "      <th>registered</th>\n",
       "      <th>cnt</th>\n",
       "    </tr>\n",
       "  </thead>\n",
       "  <tbody>\n",
       "    <tr>\n",
       "      <th>count</th>\n",
       "      <td>17135.00000</td>\n",
       "      <td>17135.000000</td>\n",
       "      <td>17135.000000</td>\n",
       "      <td>17135.000000</td>\n",
       "      <td>17135.000000</td>\n",
       "      <td>17135.000000</td>\n",
       "      <td>17135.000000</td>\n",
       "      <td>17135.000000</td>\n",
       "      <td>17135.000000</td>\n",
       "      <td>17135.000000</td>\n",
       "      <td>17135.000000</td>\n",
       "      <td>17135.000000</td>\n",
       "      <td>17135.000000</td>\n",
       "      <td>17135.000000</td>\n",
       "      <td>17135.000000</td>\n",
       "      <td>17135.000000</td>\n",
       "    </tr>\n",
       "    <tr>\n",
       "      <th>mean</th>\n",
       "      <td>8616.41033</td>\n",
       "      <td>2.494718</td>\n",
       "      <td>0.495477</td>\n",
       "      <td>6.522264</td>\n",
       "      <td>11.485848</td>\n",
       "      <td>0.029180</td>\n",
       "      <td>3.003793</td>\n",
       "      <td>0.678669</td>\n",
       "      <td>1.428246</td>\n",
       "      <td>0.494417</td>\n",
       "      <td>0.473547</td>\n",
       "      <td>0.628875</td>\n",
       "      <td>0.189893</td>\n",
       "      <td>34.818267</td>\n",
       "      <td>145.672250</td>\n",
       "      <td>180.490516</td>\n",
       "    </tr>\n",
       "    <tr>\n",
       "      <th>std</th>\n",
       "      <td>5011.06776</td>\n",
       "      <td>1.109381</td>\n",
       "      <td>0.499994</td>\n",
       "      <td>3.451943</td>\n",
       "      <td>6.931725</td>\n",
       "      <td>0.168316</td>\n",
       "      <td>2.013274</td>\n",
       "      <td>0.467001</td>\n",
       "      <td>0.640886</td>\n",
       "      <td>0.192284</td>\n",
       "      <td>0.171711</td>\n",
       "      <td>0.192907</td>\n",
       "      <td>0.122455</td>\n",
       "      <td>48.728987</td>\n",
       "      <td>135.894681</td>\n",
       "      <td>166.101082</td>\n",
       "    </tr>\n",
       "    <tr>\n",
       "      <th>min</th>\n",
       "      <td>1.00000</td>\n",
       "      <td>1.000000</td>\n",
       "      <td>0.000000</td>\n",
       "      <td>1.000000</td>\n",
       "      <td>0.000000</td>\n",
       "      <td>0.000000</td>\n",
       "      <td>0.000000</td>\n",
       "      <td>0.000000</td>\n",
       "      <td>1.000000</td>\n",
       "      <td>0.020000</td>\n",
       "      <td>0.000000</td>\n",
       "      <td>0.000000</td>\n",
       "      <td>0.000000</td>\n",
       "      <td>0.000000</td>\n",
       "      <td>0.000000</td>\n",
       "      <td>1.000000</td>\n",
       "    </tr>\n",
       "    <tr>\n",
       "      <th>25%</th>\n",
       "      <td>4284.50000</td>\n",
       "      <td>2.000000</td>\n",
       "      <td>0.000000</td>\n",
       "      <td>4.000000</td>\n",
       "      <td>6.000000</td>\n",
       "      <td>0.000000</td>\n",
       "      <td>1.000000</td>\n",
       "      <td>0.000000</td>\n",
       "      <td>1.000000</td>\n",
       "      <td>0.340000</td>\n",
       "      <td>0.333300</td>\n",
       "      <td>0.480000</td>\n",
       "      <td>0.104500</td>\n",
       "      <td>4.000000</td>\n",
       "      <td>33.000000</td>\n",
       "      <td>39.000000</td>\n",
       "    </tr>\n",
       "    <tr>\n",
       "      <th>50%</th>\n",
       "      <td>8568.00000</td>\n",
       "      <td>2.000000</td>\n",
       "      <td>0.000000</td>\n",
       "      <td>7.000000</td>\n",
       "      <td>11.000000</td>\n",
       "      <td>0.000000</td>\n",
       "      <td>3.000000</td>\n",
       "      <td>1.000000</td>\n",
       "      <td>1.000000</td>\n",
       "      <td>0.500000</td>\n",
       "      <td>0.484800</td>\n",
       "      <td>0.630000</td>\n",
       "      <td>0.194000</td>\n",
       "      <td>16.000000</td>\n",
       "      <td>113.000000</td>\n",
       "      <td>139.000000</td>\n",
       "    </tr>\n",
       "    <tr>\n",
       "      <th>75%</th>\n",
       "      <td>12916.50000</td>\n",
       "      <td>3.000000</td>\n",
       "      <td>1.000000</td>\n",
       "      <td>10.000000</td>\n",
       "      <td>17.000000</td>\n",
       "      <td>0.000000</td>\n",
       "      <td>5.000000</td>\n",
       "      <td>1.000000</td>\n",
       "      <td>2.000000</td>\n",
       "      <td>0.640000</td>\n",
       "      <td>0.621200</td>\n",
       "      <td>0.790000</td>\n",
       "      <td>0.253700</td>\n",
       "      <td>47.000000</td>\n",
       "      <td>214.000000</td>\n",
       "      <td>273.000000</td>\n",
       "    </tr>\n",
       "    <tr>\n",
       "      <th>max</th>\n",
       "      <td>17379.00000</td>\n",
       "      <td>4.000000</td>\n",
       "      <td>1.000000</td>\n",
       "      <td>12.000000</td>\n",
       "      <td>23.000000</td>\n",
       "      <td>1.000000</td>\n",
       "      <td>6.000000</td>\n",
       "      <td>1.000000</td>\n",
       "      <td>4.000000</td>\n",
       "      <td>1.000000</td>\n",
       "      <td>1.000000</td>\n",
       "      <td>1.000000</td>\n",
       "      <td>0.850700</td>\n",
       "      <td>367.000000</td>\n",
       "      <td>712.000000</td>\n",
       "      <td>733.000000</td>\n",
       "    </tr>\n",
       "  </tbody>\n",
       "</table>\n",
       "</div>"
      ],
      "text/plain": [
       "           instant        season            yr          mnth            hr  \\\n",
       "count  17135.00000  17135.000000  17135.000000  17135.000000  17135.000000   \n",
       "mean    8616.41033      2.494718      0.495477      6.522264     11.485848   \n",
       "std     5011.06776      1.109381      0.499994      3.451943      6.931725   \n",
       "min        1.00000      1.000000      0.000000      1.000000      0.000000   \n",
       "25%     4284.50000      2.000000      0.000000      4.000000      6.000000   \n",
       "50%     8568.00000      2.000000      0.000000      7.000000     11.000000   \n",
       "75%    12916.50000      3.000000      1.000000     10.000000     17.000000   \n",
       "max    17379.00000      4.000000      1.000000     12.000000     23.000000   \n",
       "\n",
       "            holiday       weekday    workingday    weathersit          temp  \\\n",
       "count  17135.000000  17135.000000  17135.000000  17135.000000  17135.000000   \n",
       "mean       0.029180      3.003793      0.678669      1.428246      0.494417   \n",
       "std        0.168316      2.013274      0.467001      0.640886      0.192284   \n",
       "min        0.000000      0.000000      0.000000      1.000000      0.020000   \n",
       "25%        0.000000      1.000000      0.000000      1.000000      0.340000   \n",
       "50%        0.000000      3.000000      1.000000      1.000000      0.500000   \n",
       "75%        0.000000      5.000000      1.000000      2.000000      0.640000   \n",
       "max        1.000000      6.000000      1.000000      4.000000      1.000000   \n",
       "\n",
       "              atemp           hum     windspeed        casual    registered  \\\n",
       "count  17135.000000  17135.000000  17135.000000  17135.000000  17135.000000   \n",
       "mean       0.473547      0.628875      0.189893     34.818267    145.672250   \n",
       "std        0.171711      0.192907      0.122455     48.728987    135.894681   \n",
       "min        0.000000      0.000000      0.000000      0.000000      0.000000   \n",
       "25%        0.333300      0.480000      0.104500      4.000000     33.000000   \n",
       "50%        0.484800      0.630000      0.194000     16.000000    113.000000   \n",
       "75%        0.621200      0.790000      0.253700     47.000000    214.000000   \n",
       "max        1.000000      1.000000      0.850700    367.000000    712.000000   \n",
       "\n",
       "                cnt  \n",
       "count  17135.000000  \n",
       "mean     180.490516  \n",
       "std      166.101082  \n",
       "min        1.000000  \n",
       "25%       39.000000  \n",
       "50%      139.000000  \n",
       "75%      273.000000  \n",
       "max      733.000000  "
      ]
     },
     "execution_count": 9,
     "metadata": {},
     "output_type": "execute_result"
    }
   ],
   "source": [
    "df_cleaned.describe()"
   ]
  },
  {
   "cell_type": "markdown",
   "id": "6ca340bf",
   "metadata": {
    "id": "th_Lzl2Fkj9O",
    "papermill": {
     "duration": 0.014266,
     "end_time": "2024-09-21T09:49:40.824759",
     "exception": false,
     "start_time": "2024-09-21T09:49:40.810493",
     "status": "completed"
    },
    "tags": []
   },
   "source": [
    "**Insight:**\n",
    "\n",
    "- Kolom `dteday` telah berhasil diubah menjadi tipe data `datetime`, dan data tersebar antara **1 Januari 2011** hingga **31 Desember 2012**.\n",
    "- Rata-rata jumlah sepeda yang disewa (`cnt`) adalah sekitar **180 sepeda per jam**, dengan nilai minimum **1** dan maksimum **733** sepeda.\n",
    "- Kolom `temp` (temperatur berskala 0 hingga 1) memiliki nilai rata-rata **0.49**, sedangkan kolom `hum` (kelembaban) memiliki rata-rata **0.63**.\n",
    "- Jumlah pengguna terdaftar (`registered`) lebih tinggi dibandingkan pengguna tidak terdaftar (`casual`), dengan rata-rata **145 pengguna terdaftar** dan **34 pengguna tidak terdaftar** per jam.\n",
    "- Distribusi data untuk variabel lain:\n",
    "  - **Season**: Nilai rata-rata **2.49**, menunjukkan bahwa sebagian besar data berasal dari musim kedua hingga ketiga (Spring hingga Summer).\n",
    "  - **Weathersit**: Nilai rata-rata **1.42**, yang berarti cuaca umumnya adalah kondisi **baik atau cukup baik**.\n",
    "  - **Windspeed**: Rata-rata nilai kecepatan angin adalah **0.19**, dengan nilai tertinggi **0.85**.\n",
    "- Dataset ini mencakup semua informasi cuaca, waktu, dan kondisi operasional yang relevan dengan analisis jumlah penyewaan sepeda."
   ]
  },
  {
   "cell_type": "markdown",
   "id": "47ce98e1",
   "metadata": {
    "id": "zsyZjqak8DC2",
    "papermill": {
     "duration": 0.01407,
     "end_time": "2024-09-21T09:49:40.853339",
     "exception": false,
     "start_time": "2024-09-21T09:49:40.839269",
     "status": "completed"
    },
    "tags": []
   },
   "source": [
    "## Visualization & Explanatory Analysis"
   ]
  },
  {
   "cell_type": "markdown",
   "id": "c83463ee",
   "metadata": {
    "id": "HZxOiQ6n8DC2",
    "papermill": {
     "duration": 0.01406,
     "end_time": "2024-09-21T09:49:40.881901",
     "exception": false,
     "start_time": "2024-09-21T09:49:40.867841",
     "status": "completed"
    },
    "tags": []
   },
   "source": [
    "### Pertanyaan 1:"
   ]
  },
  {
   "cell_type": "code",
   "execution_count": 10,
   "id": "7cd1e4c5",
   "metadata": {
    "execution": {
     "iopub.execute_input": "2024-09-21T09:49:40.912830Z",
     "iopub.status.busy": "2024-09-21T09:49:40.912364Z",
     "iopub.status.idle": "2024-09-21T09:49:41.204283Z",
     "shell.execute_reply": "2024-09-21T09:49:41.202917Z"
    },
    "id": "1swJUdAD8DC2",
    "papermill": {
     "duration": 0.3109,
     "end_time": "2024-09-21T09:49:41.207433",
     "exception": false,
     "start_time": "2024-09-21T09:49:40.896533",
     "status": "completed"
    },
    "tags": []
   },
   "outputs": [
    {
     "data": {
      "image/png": "[encoded data removed]",
      "text/plain": [
       "<Figure size 1000x600 with 1 Axes>"
      ]
     },
     "metadata": {},
     "output_type": "display_data"
    }
   ],
   "source": [
    "# Membuat plot boxplot untuk melihat distribusi jumlah penyewaan dalam berbagai kondisi cuaca\n",
    "plt.figure(figsize=(10, 6))\n",
    "sns.boxplot(x='weathersit', y='cnt', data=df_cleaned)\n",
    "plt.title('Pengaruh Kondisi Cuaca terhadap Jumlah Penyewaan')\n",
    "plt.xlabel('Kondisi Cuaca (weathersit)')\n",
    "plt.ylabel('Jumlah Penyewaan (cnt)')\n",
    "plt.xticks([0, 1, 2, 3], ['Cerah/Sedikit berawan', 'Berawan/Berkabut', 'Hujan Salju/Badai', 'Cuaca Ekstrim'])\n",
    "plt.show()"
   ]
  },
  {
   "cell_type": "code",
   "execution_count": 11,
   "id": "62a78e51",
   "metadata": {
    "execution": {
     "iopub.execute_input": "2024-09-21T09:49:41.240631Z",
     "iopub.status.busy": "2024-09-21T09:49:41.240149Z",
     "iopub.status.idle": "2024-09-21T09:49:41.251611Z",
     "shell.execute_reply": "2024-09-21T09:49:41.250116Z"
    },
    "papermill": {
     "duration": 0.031067,
     "end_time": "2024-09-21T09:49:41.254082",
     "exception": false,
     "start_time": "2024-09-21T09:49:41.223015",
     "status": "completed"
    },
    "tags": []
   },
   "outputs": [
    {
     "name": "stdout",
     "output_type": "stream",
     "text": [
      "weathersit\n",
      "1    193.965671\n",
      "2    169.705660\n",
      "3    108.097025\n",
      "4     74.333333\n",
      "Name: cnt, dtype: float64\n"
     ]
    }
   ],
   "source": [
    "# Menghitung rata-rata jumlah penyewaan berdasarkan kondisi cuaca\n",
    "avg_cnt_weather = df_cleaned.groupby('weathersit')['cnt'].mean()\n",
    "\n",
    "# Menampilkan rata-rata jumlah penyewaan untuk setiap kondisi cuaca\n",
    "print(avg_cnt_weather)"
   ]
  },
  {
   "cell_type": "markdown",
   "id": "55805d00",
   "metadata": {
    "papermill": {
     "duration": 0.01506,
     "end_time": "2024-09-21T09:49:41.284917",
     "exception": false,
     "start_time": "2024-09-21T09:49:41.269857",
     "status": "completed"
    },
    "tags": []
   },
   "source": [
    "**Insight:**\n",
    "- **Cerah/Sedikit Berawan** (`weathersit = 1`) memiliki rata-rata penyewaan tertinggi yaitu sekitar **194** penyewaan.\n",
    "- **Berawan/Berkabut** (`weathersit = 2`) sedikit lebih rendah, dengan rata-rata sekitar **170** penyewaan.\n",
    "- **Hujan Salju/Badai** (`weathersit = 3`) secara signifikan lebih rendah dengan rata-rata hanya **108** penyewaan.\n",
    "- **Cuaca Ekstrim** (`weathersit = 4`) memiliki jumlah penyewaan terendah, dengan **74** penyewaan rata-rata.\n",
    "\n"
   ]
  },
  {
   "cell_type": "markdown",
   "id": "7937cce0",
   "metadata": {
    "id": "DgHI7CiU8DC2",
    "papermill": {
     "duration": 0.014867,
     "end_time": "2024-09-21T09:49:41.315098",
     "exception": false,
     "start_time": "2024-09-21T09:49:41.300231",
     "status": "completed"
    },
    "tags": []
   },
   "source": [
    "### Pertanyaan 2:"
   ]
  },
  {
   "cell_type": "code",
   "execution_count": 12,
   "id": "b565347b",
   "metadata": {
    "execution": {
     "iopub.execute_input": "2024-09-21T09:49:41.347462Z",
     "iopub.status.busy": "2024-09-21T09:49:41.346996Z",
     "iopub.status.idle": "2024-09-21T09:49:41.355147Z",
     "shell.execute_reply": "2024-09-21T09:49:41.353989Z"
    },
    "papermill": {
     "duration": 0.02714,
     "end_time": "2024-09-21T09:49:41.357582",
     "exception": false,
     "start_time": "2024-09-21T09:49:41.330442",
     "status": "completed"
    },
    "tags": []
   },
   "outputs": [
    {
     "data": {
      "text/plain": [
       "array([1, 2, 3, 4])"
      ]
     },
     "execution_count": 12,
     "metadata": {},
     "output_type": "execute_result"
    }
   ],
   "source": [
    "df['season'].unique()"
   ]
  },
  {
   "cell_type": "code",
   "execution_count": 13,
   "id": "e809577b",
   "metadata": {
    "execution": {
     "iopub.execute_input": "2024-09-21T09:49:41.391698Z",
     "iopub.status.busy": "2024-09-21T09:49:41.390830Z",
     "iopub.status.idle": "2024-09-21T09:49:41.673294Z",
     "shell.execute_reply": "2024-09-21T09:49:41.672063Z"
    },
    "id": "Go0lCsvO8DC2",
    "papermill": {
     "duration": 0.303069,
     "end_time": "2024-09-21T09:49:41.676679",
     "exception": false,
     "start_time": "2024-09-21T09:49:41.373610",
     "status": "completed"
    },
    "tags": []
   },
   "outputs": [
    {
     "data": {
      "image/png": "[encoded data removed]",
      "text/plain": [
       "<Figure size 1000x600 with 1 Axes>"
      ]
     },
     "metadata": {},
     "output_type": "display_data"
    }
   ],
   "source": [
    "# Membuat boxplot untuk distribusi penyewaan berdasarkan musim\n",
    "plt.figure(figsize=(10, 6))\n",
    "sns.boxplot(x='season', y='cnt', data=df_cleaned)\n",
    "plt.title('Pengaruh Musim terhadap Jumlah Penyewaan')\n",
    "plt.xlabel('Musim (season)')\n",
    "plt.ylabel('Jumlah Penyewaan (cnt)')\n",
    "plt.xticks([0, 1, 2, 3], ['Musim Semi', 'Musim Panas', 'Musim Gugur', 'Musim Dingin'])\n",
    "plt.show()"
   ]
  },
  {
   "cell_type": "code",
   "execution_count": 14,
   "id": "6e64f67d",
   "metadata": {
    "execution": {
     "iopub.execute_input": "2024-09-21T09:49:41.717409Z",
     "iopub.status.busy": "2024-09-21T09:49:41.716894Z",
     "iopub.status.idle": "2024-09-21T09:49:41.726646Z",
     "shell.execute_reply": "2024-09-21T09:49:41.725395Z"
    },
    "papermill": {
     "duration": 0.030065,
     "end_time": "2024-09-21T09:49:41.729188",
     "exception": false,
     "start_time": "2024-09-21T09:49:41.699123",
     "status": "completed"
    },
    "tags": []
   },
   "outputs": [
    {
     "name": "stdout",
     "output_type": "stream",
     "text": [
      "season\n",
      "1    110.031877\n",
      "2    200.970608\n",
      "3    220.136135\n",
      "4    189.041757\n",
      "Name: cnt, dtype: float64\n"
     ]
    }
   ],
   "source": [
    "# Menghitung rata-rata jumlah penyewaan berdasarkan musim\n",
    "avg_cnt_season = df_cleaned.groupby('season')['cnt'].mean()\n",
    "\n",
    "# Menampilkan rata-rata jumlah penyewaan untuk setiap musim\n",
    "print(avg_cnt_season)"
   ]
  },
  {
   "cell_type": "markdown",
   "id": "97562566",
   "metadata": {
    "id": "_0-36BDLklRg",
    "papermill": {
     "duration": 0.016399,
     "end_time": "2024-09-21T09:49:41.762162",
     "exception": false,
     "start_time": "2024-09-21T09:49:41.745763",
     "status": "completed"
    },
    "tags": []
   },
   "source": [
    "**Insight:**\n",
    "- **Musim Gugur** (`season = 3`) memiliki rata-rata penyewaan tertinggi yaitu sekitar **220** penyewaan.\n",
    "- **Musim Panas** (`season = 2`) sedikit lebih rendah, dengan rata-rata sekitar **201** penyewaan.\n",
    "- **Musim Dingin** (`season = 4`) secara signifikan lebih rendah dengan rata-rata hanya **189** penyewaan.\n",
    "- **Musim Semi** (`season = 1`) memiliki jumlah penyewaan terendah, dengan **110** rata-rata penyewaan.\n",
    "\n",
    "catatan:\n",
    "setelah melihat plot tren tahunan di bawah, saya merasa jika rata-rata ini ada bias dari peningkatan tahun kedua dari tahun pertama"
   ]
  },
  {
   "cell_type": "markdown",
   "id": "c22aea3f",
   "metadata": {
    "id": "9y4VUsmcYNZ5",
    "papermill": {
     "duration": 0.016715,
     "end_time": "2024-09-21T09:49:41.797077",
     "exception": false,
     "start_time": "2024-09-21T09:49:41.780362",
     "status": "completed"
    },
    "tags": []
   },
   "source": [
    "## Analisis Lanjutan (Opsional)"
   ]
  },
  {
   "cell_type": "markdown",
   "id": "99967c3a",
   "metadata": {
    "papermill": {
     "duration": 0.01586,
     "end_time": "2024-09-21T09:49:41.830083",
     "exception": false,
     "start_time": "2024-09-21T09:49:41.814223",
     "status": "completed"
    },
    "tags": []
   },
   "source": [
    "### Tren Penyewaan Tahun Pertama"
   ]
  },
  {
   "cell_type": "code",
   "execution_count": 15,
   "id": "377b2f74",
   "metadata": {
    "execution": {
     "iopub.execute_input": "2024-09-21T09:49:41.864448Z",
     "iopub.status.busy": "2024-09-21T09:49:41.863960Z",
     "iopub.status.idle": "2024-09-21T09:49:42.222214Z",
     "shell.execute_reply": "2024-09-21T09:49:42.219847Z"
    },
    "papermill": {
     "duration": 0.379365,
     "end_time": "2024-09-21T09:49:42.225826",
     "exception": false,
     "start_time": "2024-09-21T09:49:41.846461",
     "status": "completed"
    },
    "tags": []
   },
   "outputs": [
    {
     "name": "stderr",
     "output_type": "stream",
     "text": [
      "/opt/conda/lib/python3.10/site-packages/seaborn/_oldcore.py:1119: FutureWarning: use_inf_as_na option is deprecated and will be removed in a future version. Convert inf values to NaN before operating instead.\n",
      "  with pd.option_context('mode.use_inf_as_na', True):\n",
      "/opt/conda/lib/python3.10/site-packages/seaborn/_oldcore.py:1119: FutureWarning: use_inf_as_na option is deprecated and will be removed in a future version. Convert inf values to NaN before operating instead.\n",
      "  with pd.option_context('mode.use_inf_as_na', True):\n",
      "/opt/conda/lib/python3.10/site-packages/seaborn/_oldcore.py:1075: FutureWarning: When grouping with a length-1 list-like, you will need to pass a length-1 tuple to get_group in a future version of pandas. Pass `(name,)` instead of `name` to silence this warning.\n",
      "  data_subset = grouped_data.get_group(pd_key)\n",
      "/opt/conda/lib/python3.10/site-packages/seaborn/_oldcore.py:1075: FutureWarning: When grouping with a length-1 list-like, you will need to pass a length-1 tuple to get_group in a future version of pandas. Pass `(name,)` instead of `name` to silence this warning.\n",
      "  data_subset = grouped_data.get_group(pd_key)\n"
     ]
    },
    {
     "data": {
      "image/png": "[encoded data removed]",
      "text/plain": [
       "<Figure size 1000x600 with 1 Axes>"
      ]
     },
     "metadata": {},
     "output_type": "display_data"
    }
   ],
   "source": [
    "# Membuat data agregat untuk tren penyewaan per bulan di setiap tahun\n",
    "monthly_trend = df.groupby(['yr', 'mnth'])['cnt'].sum().reset_index()\n",
    "\n",
    "# Visualisasi dengan line plot\n",
    "plt.figure(figsize=(10,6))\n",
    "sns.lineplot(data=monthly_trend, x='mnth', y='cnt', hue='yr')\n",
    "plt.title('Tren Penyewaan Sepeda Berdasarkan Bulan di Tahun Pertama dan Kedua')\n",
    "plt.xlabel('Bulan')\n",
    "plt.ylabel('Jumlah Penyewaan (cnt)')\n",
    "plt.legend(['Tahun Pertama', 'Tahun Kedua'])\n",
    "plt.show()"
   ]
  },
  {
   "cell_type": "markdown",
   "id": "aa6e00cf",
   "metadata": {
    "papermill": {
     "duration": 0.019691,
     "end_time": "2024-09-21T09:49:42.273802",
     "exception": false,
     "start_time": "2024-09-21T09:49:42.254111",
     "status": "completed"
    },
    "tags": []
   },
   "source": [
    "**Insight:** \n",
    "- Jumlah penyewaan sepeda pada tahun kedua secara konsisten lebih tinggi dibandingkan dengan tahun pertama.\n",
    "- Pada awal tahun (Januari hingga Maret) dan selama musim puncak (Mei hingga Agustus), terjadi peningkatan yang signifikan.\n",
    "- Pada akhir tahun jumlah penyewaan secara konsisten menurun."
   ]
  },
  {
   "cell_type": "markdown",
   "id": "2d1e425a",
   "metadata": {
    "papermill": {
     "duration": 0.017077,
     "end_time": "2024-09-21T09:49:42.308371",
     "exception": false,
     "start_time": "2024-09-21T09:49:42.291294",
     "status": "completed"
    },
    "tags": []
   },
   "source": [
    "### Pengelompokan Rentang Waktu Sewa"
   ]
  },
  {
   "cell_type": "code",
   "execution_count": 16,
   "id": "2cec48ac",
   "metadata": {
    "execution": {
     "iopub.execute_input": "2024-09-21T09:49:42.345475Z",
     "iopub.status.busy": "2024-09-21T09:49:42.345014Z",
     "iopub.status.idle": "2024-09-21T09:49:42.362207Z",
     "shell.execute_reply": "2024-09-21T09:49:42.361249Z"
    },
    "id": "iWhnzsJGYUCO",
    "papermill": {
     "duration": 0.039087,
     "end_time": "2024-09-21T09:49:42.364904",
     "exception": false,
     "start_time": "2024-09-21T09:49:42.325817",
     "status": "completed"
    },
    "tags": []
   },
   "outputs": [],
   "source": [
    "# Membuat kolom baru 'rentang_waktu' berdasarkan jam\n",
    "def assign_time_of_day(hr):\n",
    "    if 6 <= hr < 12:\n",
    "        return 'Pagi'\n",
    "    elif 12 <= hr < 16:\n",
    "        return 'Siang'\n",
    "    elif 16 <= hr < 20:\n",
    "        return 'Sore'\n",
    "    else:\n",
    "        return 'Malam'\n",
    "\n",
    "# Asign jam ke kategori rentang waktu\n",
    "df['rentang_waktu'] = df['hr'].apply(assign_time_of_day)\n"
   ]
  },
  {
   "cell_type": "code",
   "execution_count": 17,
   "id": "c4e41bc9",
   "metadata": {
    "execution": {
     "iopub.execute_input": "2024-09-21T09:49:42.401876Z",
     "iopub.status.busy": "2024-09-21T09:49:42.401438Z",
     "iopub.status.idle": "2024-09-21T09:49:42.637638Z",
     "shell.execute_reply": "2024-09-21T09:49:42.636444Z"
    },
    "papermill": {
     "duration": 0.258102,
     "end_time": "2024-09-21T09:49:42.640549",
     "exception": false,
     "start_time": "2024-09-21T09:49:42.382447",
     "status": "completed"
    },
    "tags": []
   },
   "outputs": [
    {
     "data": {
      "image/png": "[encoded data removed]",
      "text/plain": [
       "<Figure size 800x600 with 1 Axes>"
      ]
     },
     "metadata": {},
     "output_type": "display_data"
    }
   ],
   "source": [
    "# Hitung jumlah penyewaan berdasarkan rentang waktu\n",
    "grouped = df.groupby('rentang_waktu')['cnt'].sum().reset_index()\n",
    "\n",
    "# Plot\n",
    "plt.figure(figsize=(8,6))\n",
    "sns.barplot(x='rentang_waktu', y='cnt', data=grouped)\n",
    "plt.title('Jumlah Penyewaan Sepeda Berdasarkan Rentang Waktu')\n",
    "plt.xlabel('Rentang Waktu')\n",
    "plt.ylabel('Jumlah Penyewaan (cnt)')\n",
    "plt.show()"
   ]
  },
  {
   "cell_type": "markdown",
   "id": "3f594588",
   "metadata": {
    "papermill": {
     "duration": 0.017612,
     "end_time": "2024-09-21T09:49:42.676203",
     "exception": false,
     "start_time": "2024-09-21T09:49:42.658591",
     "status": "completed"
    },
    "tags": []
   },
   "source": [
    "**Insight:**\n",
    "\n",
    "- **Sore hari** mencatat jumlah penyewaan tertinggi, mencapai lebih dari 1 juta penyewaan.\n",
    "- **Pagi hari** berada di posisi kedua dengan sekitar 900 ribu penyewaan.\n",
    "- **Siang hari** memiliki jumlah penyewaan yang lebih sedikit dibandingkan pagi dan sore, dengan kurang lebih 700 ribu penyewaan.\n",
    "- **Malam hari** menunjukkan jumlah penyewaan terendah, dengan sekitar 600 ribu penyewaan.\n"
   ]
  },
  {
   "cell_type": "markdown",
   "id": "821e8643",
   "metadata": {
    "id": "_WeHlCeX8DC2",
    "papermill": {
     "duration": 0.01774,
     "end_time": "2024-09-21T09:49:42.711898",
     "exception": false,
     "start_time": "2024-09-21T09:49:42.694158",
     "status": "completed"
    },
    "tags": []
   },
   "source": [
    "## Conclusion"
   ]
  },
  {
   "cell_type": "markdown",
   "id": "2f1f458c",
   "metadata": {
    "id": "ZTcyR48Y8DC2",
    "papermill": {
     "duration": 0.01758,
     "end_time": "2024-09-21T09:49:42.748018",
     "exception": false,
     "start_time": "2024-09-21T09:49:42.730438",
     "status": "completed"
    },
    "tags": []
   },
   "source": [
    "- Cuaca cerah atau sedikit berawan memiliki dampak positif terhadap jumlah penyewaan sepeda, sedangkan kondisi cuaca ekstrem secara signifikan mengurangi jumlah penyewaan. \n",
    "- Musim juga mempengaruhi penyewaan sepeda dimana peningkatan terjadi setelah pertengahan musim semi hingga pertengahan musim gugur dan menurun signifikan di musim dingin."
   ]
  }
 ],
 "metadata": {
  "colab": {
   "provenance": []
  },
  "kaggle": {
   "accelerator": "none",
   "dataSources": [
    {
     "datasetId": 130897,
     "sourceId": 312329,
     "sourceType": "datasetVersion"
    }
   ],
   "dockerImageVersionId": 30761,
   "isGpuEnabled": false,
   "isInternetEnabled": false,
   "language": "python",
   "sourceType": "notebook"
  },
  "kernelspec": {
   "display_name": "Python 3",
   "language": "python",
   "name": "python3"
  },
  "language_info": {
   "codemirror_mode": {
    "name": "ipython",
    "version": 3
   },
   "file_extension": ".py",
   "mimetype": "text/x-python",
   "name": "python",
   "nbconvert_exporter": "python",
   "pygments_lexer": "ipython3",
   "version": "3.10.14"
  },
  "papermill": {
   "default_parameters": {},
   "duration": 26.56176,
   "end_time": "2024-09-21T09:49:45.057133",
   "environment_variables": {},
   "exception": null,
   "input_path": "__notebook__.ipynb",
   "output_path": "__notebook__.ipynb",
   "parameters": {},
   "start_time": "2024-09-21T09:49:18.495373",
   "version": "2.6.0"
  },
  "vscode": {
   "interpreter": {
    "hash": "972b3bf27e332e87b5379f2791f6ef9dfc79c71018c370b0d7423235e20fe4d7"
   }
  }
 },
 "nbformat": 4,
 "nbformat_minor": 5
}
